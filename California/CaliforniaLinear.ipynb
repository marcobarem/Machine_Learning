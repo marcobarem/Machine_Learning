{
 "cells": [
  {
   "cell_type": "code",
   "execution_count": 2,
   "metadata": {},
   "outputs": [],
   "source": [
    "import pandas as pd \n",
    "import matplotlib.pyplot as plt \n",
    "import numpy as np\n",
    "import seaborn as sns\n",
    "from sklearn.model_selection import train_test_split, cross_val_score\n",
    "from sklearn.linear_model import LinearRegression\n",
    "from sklearn.tree import DecisionTreeRegressor\n",
    "from sklearn.ensemble import RandomForestRegressor, GradientBoostingRegressor\n",
    "from sklearn.svm import SVR\n",
    "from sklearn.metrics import mean_squared_error, r2_score, mean_absolute_error\n",
    "from sklearn.preprocessing import StandardScaler"
   ]
  },
  {
   "cell_type": "code",
   "execution_count": 3,
   "metadata": {},
   "outputs": [
    {
     "name": "stdout",
     "output_type": "stream",
     "text": [
      "Carregando o dataset...\n"
     ]
    },
    {
     "name": "stderr",
     "output_type": "stream",
     "text": [
      "/tmp/ipykernel_46963/2342824143.py:2: MatplotlibDeprecationWarning: The seaborn styles shipped by Matplotlib are deprecated since 3.6, as they no longer correspond to the styles shipped by seaborn. However, they will remain available as 'seaborn-v0_8-<style>'. Alternatively, directly use the seaborn API instead.\n",
      "  plt.style.use('seaborn')\n"
     ]
    }
   ],
   "source": [
    "# Configurações para visualização\n",
    "plt.style.use('seaborn')\n",
    "plt.rcParams['figure.figsize'] = (12, 8)\n",
    "\n",
    "# Carregando o dataset\n",
    "print(\"Carregando o dataset...\")\n",
    "df = pd.read_csv('datasets/california_housing.csv')"
   ]
  },
  {
   "cell_type": "code",
   "execution_count": 4,
   "metadata": {},
   "outputs": [
    {
     "name": "stdout",
     "output_type": "stream",
     "text": [
      "\n",
      "--- Informações do Dataset ---\n",
      "Formato do dataset: (20640, 9)\n",
      "\n",
      "Primeiras 5 linhas:\n",
      "   MedInc  HouseAge  AveRooms  AveBedrms  Population  AveOccup  Latitude  \\\n",
      "0  8.3252      41.0  6.984127   1.023810       322.0  2.555556     37.88   \n",
      "1  8.3014      21.0  6.238137   0.971880      2401.0  2.109842     37.86   \n",
      "2  7.2574      52.0  8.288136   1.073446       496.0  2.802260     37.85   \n",
      "3  5.6431      52.0  5.817352   1.073059       558.0  2.547945     37.85   \n",
      "4  3.8462      52.0  6.281853   1.081081       565.0  2.181467     37.85   \n",
      "\n",
      "   Longitude  MedHouseVal  \n",
      "0    -122.23        4.526  \n",
      "1    -122.22        3.585  \n",
      "2    -122.24        3.521  \n",
      "3    -122.25        3.413  \n",
      "4    -122.25        3.422  \n",
      "\n",
      "Informações do dataset:\n",
      "<class 'pandas.core.frame.DataFrame'>\n",
      "RangeIndex: 20640 entries, 0 to 20639\n",
      "Data columns (total 9 columns):\n",
      " #   Column       Non-Null Count  Dtype  \n",
      "---  ------       --------------  -----  \n",
      " 0   MedInc       20640 non-null  float64\n",
      " 1   HouseAge     20640 non-null  float64\n",
      " 2   AveRooms     20640 non-null  float64\n",
      " 3   AveBedrms    20640 non-null  float64\n",
      " 4   Population   20640 non-null  float64\n",
      " 5   AveOccup     20640 non-null  float64\n",
      " 6   Latitude     20640 non-null  float64\n",
      " 7   Longitude    20640 non-null  float64\n",
      " 8   MedHouseVal  20640 non-null  float64\n",
      "dtypes: float64(9)\n",
      "memory usage: 1.4 MB\n",
      "\n",
      "Estatísticas descritivas:\n",
      "             MedInc      HouseAge      AveRooms     AveBedrms    Population  \\\n",
      "count  20640.000000  20640.000000  20640.000000  20640.000000  20640.000000   \n",
      "mean       3.870671     28.639486      5.429000      1.096675   1425.476744   \n",
      "std        1.899822     12.585558      2.474173      0.473911   1132.462122   \n",
      "min        0.499900      1.000000      0.846154      0.333333      3.000000   \n",
      "25%        2.563400     18.000000      4.440716      1.006079    787.000000   \n",
      "50%        3.534800     29.000000      5.229129      1.048780   1166.000000   \n",
      "75%        4.743250     37.000000      6.052381      1.099526   1725.000000   \n",
      "max       15.000100     52.000000    141.909091     34.066667  35682.000000   \n",
      "\n",
      "           AveOccup      Latitude     Longitude   MedHouseVal  \n",
      "count  20640.000000  20640.000000  20640.000000  20640.000000  \n",
      "mean       3.070655     35.631861   -119.569704      2.068558  \n",
      "std       10.386050      2.135952      2.003532      1.153956  \n",
      "min        0.692308     32.540000   -124.350000      0.149990  \n",
      "25%        2.429741     33.930000   -121.800000      1.196000  \n",
      "50%        2.818116     34.260000   -118.490000      1.797000  \n",
      "75%        3.282261     37.710000   -118.010000      2.647250  \n",
      "max     1243.333333     41.950000   -114.310000      5.000010  \n"
     ]
    }
   ],
   "source": [
    "# Verificando informações gerais\n",
    "print(\"\\n--- Informações do Dataset ---\")\n",
    "print(f\"Formato do dataset: {df.shape}\")\n",
    "print(\"\\nPrimeiras 5 linhas:\")\n",
    "print(df.head())\n",
    "\n",
    "print(\"\\nInformações do dataset:\")\n",
    "df.info()\n",
    "\n",
    "print(\"\\nEstatísticas descritivas:\")\n",
    "print(df.describe())"
   ]
  },
  {
   "cell_type": "code",
   "execution_count": 5,
   "metadata": {},
   "outputs": [
    {
     "name": "stdout",
     "output_type": "stream",
     "text": [
      "\n",
      "--- Verificação de Valores Ausentes ---\n",
      "MedInc         0\n",
      "HouseAge       0\n",
      "AveRooms       0\n",
      "AveBedrms      0\n",
      "Population     0\n",
      "AveOccup       0\n",
      "Latitude       0\n",
      "Longitude      0\n",
      "MedHouseVal    0\n",
      "dtype: int64\n"
     ]
    }
   ],
   "source": [
    "# Verificando valores ausentes\n",
    "print(\"\\n--- Verificação de Valores Ausentes ---\")\n",
    "missing_values = df.isnull().sum()\n",
    "print(missing_values)\n",
    "\n",
    "# Se houver valores ausentes, tratar\n",
    "if missing_values.sum() > 0:\n",
    "    print(\"Tratando valores ausentes...\")\n",
    "    # Preenchendo valores numéricos ausentes com a média\n",
    "    for col in df.select_dtypes(include=[np.number]).columns:\n",
    "        if df[col].isnull().sum() > 0:\n",
    "            df[col].fillna(df[col].mean(), inplace=True)"
   ]
  },
  {
   "cell_type": "markdown",
   "metadata": {},
   "source": [
    "Análise exploratória\n"
   ]
  },
  {
   "cell_type": "code",
   "execution_count": 7,
   "metadata": {},
   "outputs": [
    {
     "name": "stdout",
     "output_type": "stream",
     "text": [
      "Gerando histogramas para visualizar a distribuição de cada variável...\n",
      "Analisando a distribuição da variável alvo...\n"
     ]
    },
    {
     "data": {
      "text/plain": [
       "<Figure size 2000x1500 with 0 Axes>"
      ]
     },
     "metadata": {},
     "output_type": "display_data"
    }
   ],
   "source": [
    "# Distribuição das variáveis\n",
    "print(\"Gerando histogramas para visualizar a distribuição de cada variável...\")\n",
    "plt.figure(figsize=(20, 15))\n",
    "df.hist(bins=30, figsize=(20, 15))\n",
    "plt.suptitle('Distribuição das Variáveis', size=24)\n",
    "plt.tight_layout(rect=[0, 0, 1, 0.96])\n",
    "plt.savefig('histogramas_distribuicao.png')\n",
    "plt.close()\n",
    "\n",
    "# Distribuição da variável alvo\n",
    "print(\"Analisando a distribuição da variável alvo...\")\n",
    "plt.figure(figsize=(12, 6))\n",
    "sns.histplot(df['MedHouseVal'], kde=True)\n",
    "plt.title('Distribuição do Valor Mediano das Casas', size=16)\n",
    "plt.xlabel('Valor Mediano ($)')\n",
    "plt.ylabel('Frequência')\n",
    "plt.savefig('distribuicao_valor_casas.png')\n",
    "plt.close()"
   ]
  },
  {
   "cell_type": "code",
   "execution_count": 11,
   "metadata": {},
   "outputs": [
    {
     "name": "stdout",
     "output_type": "stream",
     "text": [
      "Gerando mapa de distribuição geográfica dos preços...\n",
      "Gerando matriz de correlação...\n"
     ]
    }
   ],
   "source": [
    "# Distribuição geográfica\n",
    "print(\"Gerando mapa de distribuição geográfica dos preços...\")\n",
    "plt.figure(figsize=(12, 10))\n",
    "plt.scatter(df['Longitude'], df['Latitude'], alpha=0.4, \n",
    "            c=df['MedHouseVal'], cmap='viridis', s=10)\n",
    "plt.colorbar(label='Valor Mediano ($)')\n",
    "plt.title('Distribuição Geográfica dos Preços das Casas na Califórnia', size=16)\n",
    "plt.xlabel('Longitude')\n",
    "plt.ylabel('Latitude')\n",
    "plt.savefig('mapa_precos.png')\n",
    "plt.close()\n",
    "\n",
    "# Análise de Correlação\n",
    "print(\"Gerando matriz de correlação...\")\n",
    "correlation_matrix = df.corr()\n",
    "plt.figure(figsize=(12, 10))\n",
    "sns.heatmap(correlation_matrix, annot=True, cmap='coolwarm', fmt='.2f')\n",
    "plt.title('Matriz de Correlação', size=16)\n",
    "plt.savefig('matriz_correlacao.png')\n",
    "plt.close()"
   ]
  },
  {
   "cell_type": "code",
   "execution_count": 14,
   "metadata": {},
   "outputs": [
    {
     "name": "stdout",
     "output_type": "stream",
     "text": [
      "\n",
      "Correlações com a variável 'MedHouseVal':\n",
      "MedHouseVal    1.000000\n",
      "MedInc         0.688075\n",
      "AveRooms       0.151948\n",
      "HouseAge       0.105623\n",
      "AveOccup      -0.023737\n",
      "Population    -0.024650\n",
      "Longitude     -0.045967\n",
      "AveBedrms     -0.046701\n",
      "Latitude      -0.144160\n",
      "Name: MedHouseVal, dtype: float64\n",
      "Gerando pair plot das variáveis mais correlacionadas...\n"
     ]
    }
   ],
   "source": [
    "# Correlação com a variável alvo\n",
    "print(\"\\nCorrelações com a variável 'MedHouseVal':\")\n",
    "correlations = correlation_matrix['MedHouseVal'].sort_values(ascending=False)\n",
    "print(correlations)\n",
    "\n",
    "# Pair plot para variáveis mais correlacionadas\n",
    "print(\"Gerando pair plot das variáveis mais correlacionadas...\")\n",
    "top_corr_features = correlations.index[1:5]  # Excluindo a própria median_house_value e limitando a 4\n",
    "sns.pairplot(df[list(top_corr_features) + ['MedHouseVal']], \n",
    "             height=2.5, plot_kws={'alpha': 0.6})\n",
    "plt.suptitle('Pair Plot das Variáveis Mais Correlacionadas', y=1.02, size=16)\n",
    "plt.savefig('pair_plot.png')\n",
    "plt.close()"
   ]
  },
  {
   "cell_type": "code",
   "execution_count": 15,
   "metadata": {},
   "outputs": [
    {
     "name": "stdout",
     "output_type": "stream",
     "text": [
      "Gerando boxplot para identificar outliers...\n"
     ]
    }
   ],
   "source": [
    "# Identificação de Outliers\n",
    "print(\"Gerando boxplot para identificar outliers...\")\n",
    "plt.figure(figsize=(15, 10))\n",
    "df.boxplot()\n",
    "plt.title('Boxplot para Identificação de Outliers', size=16)\n",
    "plt.xticks(rotation=45)\n",
    "plt.savefig('boxplot_outliers.png')\n",
    "plt.close()"
   ]
  },
  {
   "cell_type": "markdown",
   "metadata": {},
   "source": [
    "Pré-processamento de dados"
   ]
  },
  {
   "cell_type": "code",
   "execution_count": 16,
   "metadata": {},
   "outputs": [
    {
     "name": "stdout",
     "output_type": "stream",
     "text": [
      "Separando features e target...\n",
      "Padronizando os dados...\n",
      "Dividindo em conjuntos de treino e teste...\n",
      "Dimensões do conjunto de treino: (16512, 8)\n",
      "Dimensões do conjunto de teste: (4128, 8)\n"
     ]
    }
   ],
   "source": [
    "# Separação de features e target\n",
    "print(\"Separando features e target...\")\n",
    "X = df.drop('MedHouseVal', axis=1)\n",
    "y = df['MedHouseVal']\n",
    "\n",
    "# Padronização dos dados\n",
    "print(\"Padronizando os dados...\")\n",
    "scaler = StandardScaler()\n",
    "X_scaled = scaler.fit_transform(X)\n",
    "X_scaled = pd.DataFrame(X_scaled, columns=X.columns)\n",
    "\n",
    "# Divisão em conjuntos de treino e teste\n",
    "print(\"Dividindo em conjuntos de treino e teste...\")\n",
    "X_train, X_test, y_train, y_test = train_test_split(X_scaled, y, test_size=0.2, random_state=42)\n",
    "print(f\"Dimensões do conjunto de treino: {X_train.shape}\")\n",
    "print(f\"Dimensões do conjunto de teste: {X_test.shape}\")"
   ]
  },
  {
   "cell_type": "markdown",
   "metadata": {},
   "source": [
    "Modelagem"
   ]
  },
  {
   "cell_type": "code",
   "execution_count": 17,
   "metadata": {},
   "outputs": [],
   "source": [
    "# Função para avaliar modelos\n",
    "def evaluate_model(model_name, model, X_train, X_test, y_train, y_test):\n",
    "    print(f\"\\nAvaliando o modelo: {model_name}\")\n",
    "    \n",
    "    # Treinando o modelo\n",
    "    model.fit(X_train, y_train)\n",
    "    \n",
    "    # Fazendo previsões\n",
    "    y_pred_train = model.predict(X_train)\n",
    "    y_pred_test = model.predict(X_test)\n",
    "    \n",
    "    # Calculando métricas\n",
    "    train_rmse = np.sqrt(mean_squared_error(y_train, y_pred_train))\n",
    "    test_rmse = np.sqrt(mean_squared_error(y_test, y_pred_test))\n",
    "    train_mae = mean_absolute_error(y_train, y_pred_train)\n",
    "    test_mae = mean_absolute_error(y_test, y_pred_test)\n",
    "    train_r2 = r2_score(y_train, y_pred_train)\n",
    "    test_r2 = r2_score(y_test, y_pred_test)\n",
    "    \n",
    "    # Cross-validation score\n",
    "    cv_scores = cross_val_score(model, X_train, y_train, cv=5, scoring='r2')\n",
    "    cv_mean = np.mean(cv_scores)\n",
    "    \n",
    "    # Exibindo resultados\n",
    "    print(f\"Métricas de Treino: RMSE = {train_rmse:.2f}, MAE = {train_mae:.2f}, R² = {train_r2:.4f}\")\n",
    "    print(f\"Métricas de Teste: RMSE = {test_rmse:.2f}, MAE = {test_mae:.2f}, R² = {test_r2:.4f}\")\n",
    "    print(f\"Média R² na validação cruzada (5-fold): {cv_mean:.4f}\")\n",
    "    \n",
    "    # Plotando valores reais vs preditos\n",
    "    plt.figure(figsize=(10, 6))\n",
    "    plt.scatter(y_test, y_pred_test, alpha=0.6)\n",
    "    plt.plot([y.min(), y.max()], [y.min(), y.max()], 'r--')\n",
    "    plt.xlabel('Valores Reais')\n",
    "    plt.ylabel('Valores Preditos')\n",
    "    plt.title(f'Valores Reais vs. Preditos - {model_name}')\n",
    "    plt.savefig(f'predicoes_{model_name.lower().replace(\" \", \"_\")}.png')\n",
    "    plt.close()\n",
    "    # Plotando resíduos\n",
    "    residuals = y_test - y_pred_test\n",
    "    plt.figure(figsize=(10, 6))\n",
    "    plt.scatter(y_pred_test, residuals, alpha=0.6)\n",
    "    plt.axhline(y=0, color='r', linestyle='--')\n",
    "    plt.xlabel('Valores Preditos')\n",
    "    plt.ylabel('Resíduos')\n",
    "    plt.title(f'Análise de Resíduos - {model_name}')\n",
    "    plt.savefig(f'residuos_{model_name.lower().replace(\" \", \"_\")}.png')\n",
    "    plt.close()\n",
    "    \n",
    "    return {\n",
    "        'model': model_name,\n",
    "        'train_rmse': train_rmse,\n",
    "        'test_rmse': test_rmse,\n",
    "        'train_mae': train_mae,\n",
    "        'test_mae': test_mae,\n",
    "        'train_r2': train_r2,\n",
    "        'test_r2': test_r2,\n",
    "        'cv_r2': cv_mean\n",
    "    }\n",
    "\n",
    "# Lista para armazenar resultados\n",
    "results = []"
   ]
  },
  {
   "cell_type": "code",
   "execution_count": 18,
   "metadata": {},
   "outputs": [
    {
     "name": "stdout",
     "output_type": "stream",
     "text": [
      "\n",
      "Treinando Regressão Linear...\n",
      "\n",
      "Avaliando o modelo: Regressão Linear\n",
      "Métricas de Treino: RMSE = 0.72, MAE = 0.53, R² = 0.6126\n",
      "Métricas de Teste: RMSE = 0.75, MAE = 0.53, R² = 0.5758\n",
      "Média R² na validação cruzada (5-fold): 0.6115\n",
      "\n",
      "Coeficientes da Regressão Linear:\n",
      "      Feature  Coefficient\n",
      "0      MedInc     0.852382\n",
      "3   AveBedrms     0.371132\n",
      "1    HouseAge     0.122382\n",
      "4  Population    -0.002298\n",
      "5    AveOccup    -0.036624\n",
      "2    AveRooms    -0.305116\n",
      "7   Longitude    -0.868927\n",
      "6    Latitude    -0.896635\n"
     ]
    }
   ],
   "source": [
    "# 1. Regressão Linear\n",
    "print(\"\\nTreinando Regressão Linear...\")\n",
    "lr_model = LinearRegression()\n",
    "lr_results = evaluate_model(\"Regressão Linear\", lr_model, X_train, X_test, y_train, y_test)\n",
    "results.append(lr_results)\n",
    "\n",
    "# Analisando os coeficientes\n",
    "coefs = pd.DataFrame({\n",
    "    'Feature': X.columns,\n",
    "    'Coefficient': lr_model.coef_\n",
    "}).sort_values('Coefficient', ascending=False)\n",
    "\n",
    "print(\"\\nCoeficientes da Regressão Linear:\")\n",
    "print(coefs)\n",
    "\n",
    "plt.figure(figsize=(12, 8))\n",
    "sns.barplot(x='Coefficient', y='Feature', data=coefs)\n",
    "plt.title('Coeficientes da Regressão Linear', size=16)\n",
    "plt.savefig('coeficientes_regressao_linear.png')\n",
    "plt.close()\n"
   ]
  }
 ],
 "metadata": {
  "kernelspec": {
   "display_name": "Python 3",
   "language": "python",
   "name": "python3"
  },
  "language_info": {
   "codemirror_mode": {
    "name": "ipython",
    "version": 3
   },
   "file_extension": ".py",
   "mimetype": "text/x-python",
   "name": "python",
   "nbconvert_exporter": "python",
   "pygments_lexer": "ipython3",
   "version": "3.12.3"
  }
 },
 "nbformat": 4,
 "nbformat_minor": 2
}
